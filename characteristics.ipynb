{
 "cells": [
  {
   "cell_type": "code",
   "execution_count": 12,
   "metadata": {},
   "outputs": [],
   "source": [
    "import pandas as pd\n",
    "table = pd.read_table('data/order.tbl', delimiter='|')\n"
   ]
  },
  {
   "cell_type": "markdown",
   "metadata": {},
   "source": [
    "# Min"
   ]
  },
  {
   "cell_type": "code",
   "execution_count": 13,
   "metadata": {},
   "outputs": [
    {
     "data": {
      "text/plain": [
       "ORDERKEY                                                   1\n",
       "CUSTKEY                                                    1\n",
       "ORDERSTATUS                                                F\n",
       "TOTALPRICE                                           1023.79\n",
       "ORDERDATE                                         1992-01-01\n",
       "ORDERPRIORITY                                       1-URGENT\n",
       "CLERK                                        Clerk#000000006\n",
       "SHIPPRIORITY                                               0\n",
       "COMMENT               1AhQw1lwMCgO72NSlQC3gmimCy4y2C6iR127A3\n",
       "Unnamed: 9                                               NaN\n",
       "dtype: object"
      ]
     },
     "execution_count": 13,
     "metadata": {},
     "output_type": "execute_result"
    }
   ],
   "source": [
    "table.apply(pd.Series.min)"
   ]
  },
  {
   "cell_type": "markdown",
   "metadata": {},
   "source": [
    "# Max"
   ]
  },
  {
   "cell_type": "code",
   "execution_count": 14,
   "metadata": {},
   "outputs": [
    {
     "data": {
      "text/plain": [
       "ORDERKEY                       36000000\n",
       "CUSTKEY                          899999\n",
       "ORDERSTATUS                           P\n",
       "TOTALPRICE                       700421\n",
       "ORDERDATE                    1998-08-02\n",
       "ORDERPRIORITY                     5-LOW\n",
       "CLERK                   Clerk#000005995\n",
       "SHIPPRIORITY                          0\n",
       "COMMENT          zzzzzP2B6OPmj6yQCCN5jj\n",
       "Unnamed: 9                          NaN\n",
       "dtype: object"
      ]
     },
     "execution_count": 14,
     "metadata": {},
     "output_type": "execute_result"
    }
   ],
   "source": [
    "table.apply(pd.Series.max)"
   ]
  },
  {
   "cell_type": "markdown",
   "metadata": {},
   "source": [
    "# Cardinalities"
   ]
  },
  {
   "cell_type": "code",
   "execution_count": 15,
   "metadata": {},
   "outputs": [
    {
     "data": {
      "text/plain": [
       "ORDERKEY         9000000\n",
       "CUSTKEY           600000\n",
       "ORDERSTATUS            3\n",
       "TOTALPRICE         12269\n",
       "ORDERDATE           1175\n",
       "ORDERPRIORITY          5\n",
       "CLERK               1400\n",
       "SHIPPRIORITY           1\n",
       "COMMENT          9000000\n",
       "Unnamed: 9             0\n",
       "dtype: int64"
      ]
     },
     "execution_count": 15,
     "metadata": {},
     "output_type": "execute_result"
    }
   ],
   "source": [
    "table.apply(pd.Series.nunique)"
   ]
  }
 ],
 "metadata": {
  "kernelspec": {
   "display_name": "Python 3",
   "language": "python",
   "name": "python3"
  },
  "language_info": {
   "codemirror_mode": {
    "name": "ipython",
    "version": 3
   },
   "file_extension": ".py",
   "mimetype": "text/x-python",
   "name": "python",
   "nbconvert_exporter": "python",
   "pygments_lexer": "ipython3",
   "version": "3.6.5"
  }
 },
 "nbformat": 4,
 "nbformat_minor": 2
}
